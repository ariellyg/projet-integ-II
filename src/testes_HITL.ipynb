{
 "cells": [
  {
   "cell_type": "code",
   "execution_count": 1,
   "id": "83452092",
   "metadata": {},
   "outputs": [],
   "source": [
    "from typing import Literal\n",
    "from langgraph.types import interrupt, Command\n",
    "from langgraph.graph import StateGraph\n",
    "from typing import TypedDict, List\n",
    "from langgraph.graph import END\n",
    "from main import gerar_receita_com_groq_json, carregar_prompt\n",
    "from IPython.display import display, Image\n",
    "\n",
    "from pydantic import BaseModel, Field, field_validator\n",
    "from typing import Dict, Literal\n",
    "import re\n",
    "from langgraph.checkpoint.memory import InMemorySaver"
   ]
  },
  {
   "cell_type": "code",
   "execution_count": 2,
   "id": "de2ab29a",
   "metadata": {},
   "outputs": [],
   "source": [
    "class Ingredientes(BaseModel):\n",
    "    principais: List[str] = Field(description=\"Ingredientes principais da receita\")\n",
    "    condimentos: List[str] = Field(description=\"Temperos e condimentos usados\")\n",
    "\n",
    "class Receita(BaseModel):\n",
    "    descricao: str = Field(alias=\"Descrição\", description=\"Breve descrição da receita\")\n",
    "    ingredientes: Ingredientes = Field(alias=\"Ingredientes\", description=\"Ingredientes divididos por tipo\")\n",
    "    modo_de_preparo: Dict[str, str] = Field(alias=\"Modo de preparo\", description=\"Passos numerados do preparo\")\n",
    "    tempo_de_preparo: str = Field(alias=\"Tempo de preparo\", description=\"Tempo estimado de preparo\")\n",
    "\n",
    "    @field_validator(\"tempo_de_preparo\")\n",
    "    @classmethod\n",
    "    def tempo_de_preparo_deve_ter_unidade(cls, v):\n",
    "        if not isinstance(v, str):\n",
    "            raise TypeError(\"O tempo de preparo deve ser uma string\")\n",
    "    \n",
    "        if not re.search(r\"\\d+\\s*(minutos|min|h|horas|dia|dias|minuto|hora|segundo|segundos)\", v.lower()):\n",
    "            raise ValueError(\"O tempo de preparo deve conter uma unidade, como 'minutos' ou 'horas'\")\n",
    "        return v\n",
    "\n",
    "    @field_validator(\"modo_de_preparo\")\n",
    "    @classmethod\n",
    "    def modo_de_preparo_deve_ter_ordem(cls, v):\n",
    "        if not v:\n",
    "            raise ValueError(\"O modo de preparo não pode estar vazio\")\n",
    "        \n",
    "        try:\n",
    "            passos = sorted(int(k) for k in v.keys())\n",
    "            if passos != list(range(len(passos))):\n",
    "                raise ValueError(\"As etapas do modo de preparo devem começar de 0 e ser sequenciais\")\n",
    "        except Exception:\n",
    "            raise ValueError(\"As chaves do modo de preparo devem ser números sequenciais (0, 1, 2...)\")\n",
    "        return v\n",
    "\n",
    "    class Config:\n",
    "        populate_by_name = True  # permite usar alias nos dados JSON"
   ]
  },
  {
   "cell_type": "code",
   "execution_count": 3,
   "id": "50d277bf",
   "metadata": {},
   "outputs": [],
   "source": [
    "class State(TypedDict):\n",
    "    llm_output: Receita\n",
    "    ingredientes: str\n",
    "    ja_buscou: bool\n",
    "\n",
    "\n",
    "def human_approval(state: State) -> Command[Literal[END, \"gerar_receita\"]]:\n",
    "    is_approved = interrupt(\n",
    "        {\n",
    "            \"question\": \"Você aprova ou rejeita a receita?\",\n",
    "            # Surface the output that should be\n",
    "            # reviewed and approved by the human.\n",
    "            \"llm_output\": state[\"llm_output\"]\n",
    "        }\n",
    "    )\n",
    "\n",
    "    if is_approved == \"approved\":\n",
    "        return Command(goto=END)\n",
    "    else:\n",
    "        return Command(goto=\"gerar_receita\")\n",
    "\n",
    "def gerar_receita(state: State) -> State:\n",
    "    prompt_base = carregar_prompt(\"../prompt.txt\")\n",
    "    \n",
    "    if state.get(\"ja_buscou\", False):\n",
    "        state[\"llm_output\"] = gerar_receita_com_groq_json(ingredientes=state[\"ingredientes\"], prompt_base=prompt_base, buscar_web=True)\n",
    "        state[\"ja_buscou\"] = True\n",
    "    else:\n",
    "        state[\"llm_output\"] = gerar_receita_com_groq_json(ingredientes=state[\"ingredientes\"], prompt_base=prompt_base, buscar_web=False)\n",
    "        state[\"ja_buscou\"] = True\n",
    "\n",
    "    return state\n",
    "\n",
    "\n",
    "\n",
    "graph_builder = StateGraph(State)\n",
    "\n",
    "# Add the node to the graph in an appropriate location\n",
    "# and connect it to the relevant nodes.\n",
    "graph_builder.add_node(\"human_approval\", human_approval)\n",
    "graph_builder.add_node(\"gerar_receita\", gerar_receita)\n",
    "\n",
    "graph_builder.set_entry_point(\"gerar_receita\")\n",
    "graph_builder.add_edge(\"gerar_receita\", \"human_approval\")\n",
    "\n",
    "checkpointer = InMemorySaver()\n",
    "graph = graph_builder.compile(checkpointer=checkpointer)"
   ]
  },
  {
   "cell_type": "code",
   "execution_count": 4,
   "id": "ab816216",
   "metadata": {},
   "outputs": [
    {
     "data": {
      "image/png": "[encoded data removed]",
      "text/plain": [
       "<IPython.core.display.Image object>"
      ]
     },
     "metadata": {},
     "output_type": "display_data"
    }
   ],
   "source": [
    "display(Image(graph.get_graph(xray=True).draw_mermaid_png(max_retries=5, retry_delay=2.0)))"
   ]
  },
  {
   "cell_type": "code",
   "execution_count": 6,
   "id": "60ee1008",
   "metadata": {},
   "outputs": [
    {
     "name": "stdout",
     "output_type": "stream",
     "text": [
      "🚧 Interrompido! Payload: {'question': 'Você aprova ou rejeita a receita?', 'llm_output': {'Descrição': 'Um delicioso frango com legumes ao estilo nordestino, simples e saboroso.', 'Ingredientes': {'principais': ['frango em pedaços', 'arroz lavado', 'cenoura picada', 'água'], 'condimentos': ['sal', 'pimenta-do-reino', 'alho picado', 'cebola picada', 'louro']}, 'Modo de preparo': {'0': 'Em uma panela grande, refogue a cebola e o alho picado em um pouco de azeite.', '1': 'Adicione o frango em pedaços e doure bem por todos os lados.', '2': 'Incorpore a cenoura picada e tempere com sal, pimenta-do-reino, louro e um pouco de água.', '3': 'Cubra a panela e cozinhe em fogo baixo até o frango ficar macio e a cenoura cozida (cerca de 30 minutos).', '4': 'Durante o cozimento do frango, cozinhe o arroz em água fervente com sal, de acordo com as instruções da embalagem.', '5': 'Sirva o frango com legumes sobre o arroz cozido.'}, 'Tempo de preparo': '45 minutos'}}\n",
      "Resultado final: {'llm_output': {'Descrição': 'Frango assado com arroz e cenoura, um prato simples e saboroso do Nordeste brasileiro.', 'Ingredientes': {'principais': ['1 kg de frango inteiro ou em pedaços', '2 xícaras de arroz', '3 cenouras médias', '1 cebola', '2 dentes de alho'], 'condimentos': ['Sal', 'Pimenta do reino', 'Páprica doce', 'Azeite ou óleo vegetal']}, 'Modo de preparo': {'0': 'Lave bem o frango e tempere com sal, pimenta do reino, páprica doce e alho amassado. Deixe marinar por pelo menos 30 minutos.', '1': 'Descasque e pique a cebola e as cenouras. Lave o arroz.', '2': 'Aqueça o azeite ou óleo em uma panela grande e doure o frango em fogo médio. Retire o frango e reserve.', '3': 'Na mesma panela, refogue a cebola e o alho até ficarem transparentes. Adicione o arroz e o sal e refogue por mais 2 minutos.', '4': 'Adicione água quente aos poucos, mexendo sempre, até cobrir o arroz. Adicione as cenouras picadas.', '5': 'Tempere com sal e pimenta do reino a gosto. Leve para ferver, diminua o fogo, tampe a panela e cozinhe por cerca de 15-20 minutos ou até o arroz estar cozido e a água absorvida.', '6': 'Enquanto o arroz cozinha, asse o frango em forno preaquecido a 180°C por cerca de 45 minutos ou até ficar dourado e cozido por dentro. Verifique a temperatura interna do frango com um termômetro, que deve estar em torno de 75°C.', '7': 'Sirva o frango assado com o arroz e cenoura cozida.'}, 'Tempo de preparo': '1 hora e 15 minutos'}, 'ingredientes': 'arroz, frango, cenoura', 'ja_buscou': True, '__interrupt__': [Interrupt(value={'question': 'Você aprova ou rejeita a receita?', 'llm_output': {'Descrição': 'Frango assado com arroz e cenoura, um prato simples e saboroso do Nordeste brasileiro.', 'Ingredientes': {'principais': ['1 kg de frango inteiro ou em pedaços', '2 xícaras de arroz', '3 cenouras médias', '1 cebola', '2 dentes de alho'], 'condimentos': ['Sal', 'Pimenta do reino', 'Páprica doce', 'Azeite ou óleo vegetal']}, 'Modo de preparo': {'0': 'Lave bem o frango e tempere com sal, pimenta do reino, páprica doce e alho amassado. Deixe marinar por pelo menos 30 minutos.', '1': 'Descasque e pique a cebola e as cenouras. Lave o arroz.', '2': 'Aqueça o azeite ou óleo em uma panela grande e doure o frango em fogo médio. Retire o frango e reserve.', '3': 'Na mesma panela, refogue a cebola e o alho até ficarem transparentes. Adicione o arroz e o sal e refogue por mais 2 minutos.', '4': 'Adicione água quente aos poucos, mexendo sempre, até cobrir o arroz. Adicione as cenouras picadas.', '5': 'Tempere com sal e pimenta do reino a gosto. Leve para ferver, diminua o fogo, tampe a panela e cozinhe por cerca de 15-20 minutos ou até o arroz estar cozido e a água absorvida.', '6': 'Enquanto o arroz cozinha, asse o frango em forno preaquecido a 180°C por cerca de 45 minutos ou até ficar dourado e cozido por dentro. Verifique a temperatura interna do frango com um termômetro, que deve estar em torno de 75°C.', '7': 'Sirva o frango assado com o arroz e cenoura cozida.'}, 'Tempo de preparo': '1 hora e 15 minutos'}}, resumable=True, ns=['human_approval:caef6c1d-369c-9cc9-39e3-f27df32f9c52'])]}\n"
     ]
    }
   ],
   "source": [
    "thread_config = {\"configurable\": {\"thread_id\": \"seu-id\"}}\n",
    "result = graph.invoke({\"ingredientes\": \"arroz, frango, cenoura\"},\n",
    "                      config=thread_config)\n",
    "\n",
    "# Se interrompido, result conterá \"__interrupt__\"\n",
    "\n",
    "interrupt_list = result.get(\"__interrupt__\", None)\n",
    "\n",
    "if interrupt_list:\n",
    "    irq = interrupt_list[0]  # pegue o primeiro\n",
    "    print(\"🚧 Interrompido! Payload:\", irq.value)\n",
    "    # Por exemplo:\n",
    "    resposta = input(\"Digite 'approved' ou 'rejected': \")\n",
    "    # Retome grafo com:\n",
    "    new_result = graph.invoke(Command(resume=resposta), config=thread_config)\n",
    "    print(\"Resultado final:\", new_result)"
   ]
  }
 ],
 "metadata": {
  "kernelspec": {
   "display_name": "venv",
   "language": "python",
   "name": "python3"
  },
  "language_info": {
   "codemirror_mode": {
    "name": "ipython",
    "version": 3
   },
   "file_extension": ".py",
   "mimetype": "text/x-python",
   "name": "python",
   "nbconvert_exporter": "python",
   "pygments_lexer": "ipython3",
   "version": "3.10.9"
  }
 },
 "nbformat": 4,
 "nbformat_minor": 5
}
